{
  "nbformat": 4,
  "nbformat_minor": 0,
  "metadata": {
    "colab": {
      "provenance": [],
      "authorship_tag": "ABX9TyOj7q87GjFiFejJapkfbmBW",
      "include_colab_link": true
    },
    "kernelspec": {
      "name": "python3",
      "display_name": "Python 3"
    },
    "language_info": {
      "name": "python"
    }
  },
  "cells": [
    {
      "cell_type": "markdown",
      "metadata": {
        "id": "view-in-github",
        "colab_type": "text"
      },
      "source": [
        "<a href=\"https://colab.research.google.com/github/JuanTLA16/Arrays_vectores/blob/main/Arrays.ipynb\" target=\"_parent\"><img src=\"https://colab.research.google.com/assets/colab-badge.svg\" alt=\"Open In Colab\"/></a>"
      ]
    },
    {
      "cell_type": "markdown",
      "source": [
        "# Arrays, Arreglos, Vectores\n",
        "\n",
        "## Un Array en Python es una estructura de datos, del mismo tipo que permite almacenar una secuencia de datos de manera eficiente."
      ],
      "metadata": {
        "id": "O0KO7AV3ZWc6"
      }
    },
    {
      "cell_type": "code",
      "source": [
        "# VECTOR O ARRAY CON NUMEROS ALEATORIOS\n",
        "\n",
        "import random\n",
        "\n",
        "x = [None]*10\n",
        "\n",
        "for i in range(10):\n",
        "  x[i] = random.randint(1,6)\n",
        "  print(x[i])\n",
        "print(x)"
      ],
      "metadata": {
        "id": "PB7XdkdKZu1K"
      },
      "execution_count": null,
      "outputs": []
    },
    {
      "cell_type": "code",
      "source": [
        "# SUMA DE LOS ELEMENTOS DE UN VECTOR\n",
        "\n",
        "suma = 0\n",
        "vector = [None]*5\n",
        "\n",
        "\n",
        "# PROCESSING\n",
        "\n",
        "for i in range(5):\n",
        "  a = int(input(\"Dame un elemento: \"))\n",
        "  vector[i] = a\n",
        "  suma = suma + vector[i]\n",
        "\n",
        "\n",
        "# OUTPUT\n",
        "\n",
        "print(\"El vector es: \")\n",
        "print(vector)\n",
        "print(\"La suma de los elementos del vector es: \" , suma)"
      ],
      "metadata": {
        "id": "GO1HUgfyaw9K"
      },
      "execution_count": null,
      "outputs": []
    },
    {
      "cell_type": "markdown",
      "source": [
        "# EJERCICIO\n",
        "Una empresa tiene 250 empleados, por cada uno de ellos tenemos un registro que trae grabado dos datos, el nombre del empleado y su corrspondiente salario mensual. Hacer un programa en Python que averigue e imprima, cuantos empleados ganan mas del promedio salarial de la empresa."
      ],
      "metadata": {
        "id": "vyeYNY4ec1Xg"
      }
    },
    {
      "cell_type": "code",
      "source": [
        "empleados = [None]*3\n",
        "salarios = [None]*3\n",
        "\n",
        "for i in range(5):\n",
        "  a = int(input(\"Dame un elemento: \"))\n",
        "  b = int(input(\"Dame un elemento: \"))\n",
        "  empleados[i] = a\n",
        "  salarios[i] = b\n",
        "  promedio = salarios/empleados\n"
      ],
      "metadata": {
        "id": "a7kxna_UdZ9w"
      },
      "execution_count": null,
      "outputs": []
    }
  ]
}