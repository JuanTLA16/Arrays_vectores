{
  "nbformat": 4,
  "nbformat_minor": 0,
  "metadata": {
    "colab": {
      "provenance": [],
      "authorship_tag": "ABX9TyPpKaR5HNZw1jOrwCwVhAO5",
      "include_colab_link": true
    },
    "kernelspec": {
      "name": "python3",
      "display_name": "Python 3"
    },
    "language_info": {
      "name": "python"
    }
  },
  "cells": [
    {
      "cell_type": "markdown",
      "metadata": {
        "id": "view-in-github",
        "colab_type": "text"
      },
      "source": [
        "<a href=\"https://colab.research.google.com/github/JuanTLA16/Arrays_vectores/blob/main/Arrays.ipynb\" target=\"_parent\"><img src=\"https://colab.research.google.com/assets/colab-badge.svg\" alt=\"Open In Colab\"/></a>"
      ]
    },
    {
      "cell_type": "markdown",
      "source": [
        "# Arrays, Arreglos, Vectores\n",
        "\n",
        "## Un Array en Python es una estructura de datos, del mismo tipo que permite almacenar una secuencia de datos de manera eficiente."
      ],
      "metadata": {
        "id": "O0KO7AV3ZWc6"
      }
    },
    {
      "cell_type": "code",
      "source": [
        "# VECTOR O ARRAY CON NUMEROS ALEATORIOS\n",
        "\n",
        "import random\n",
        "\n",
        "x = [None]*10\n",
        "\n",
        "for i in range(10):\n",
        "  x[i] = random.randint(1,6)\n",
        "  print(x[i])\n",
        "print(x)"
      ],
      "metadata": {
        "id": "PB7XdkdKZu1K"
      },
      "execution_count": null,
      "outputs": []
    },
    {
      "cell_type": "code",
      "source": [
        "# SUMA DE LOS ELEMENTOS DE UN VECTOR\n",
        "\n",
        "suma = 0\n",
        "vector = [None]*5\n",
        "\n",
        "\n",
        "# PROCESSING\n",
        "\n",
        "for i in range(5):\n",
        "  a = int(input(\"Dame un elemento: \"))\n",
        "  vector[i] = a\n",
        "  suma = suma + vector[i]\n",
        "\n",
        "\n",
        "# OUTPUT\n",
        "\n",
        "print(\"El vector es: \")\n",
        "print(vector)\n",
        "print(\"La suma de los elementos del vector es: \" , suma)"
      ],
      "metadata": {
        "id": "GO1HUgfyaw9K"
      },
      "execution_count": null,
      "outputs": []
    },
    {
      "cell_type": "markdown",
      "source": [
        "# EJERCICIO\n",
        "Una empresa tiene 250 empleados, por cada uno de ellos tenemos un registro que trae grabado dos datos, el nombre del empleado y su corrspondiente salario mensual. Hacer un programa en Python que averigue e imprima, cuantos empleados ganan mas del promedio salarial de la empresa."
      ],
      "metadata": {
        "id": "vyeYNY4ec1Xg"
      }
    },
    {
      "cell_type": "code",
      "source": [
        "empleados = [None]*3\n",
        "salarios = [None]*3\n",
        "\n",
        "prom_sal_empresa = 0\n",
        "num_emp_mayor_prom = 0\n",
        "\n",
        "for i in range(3):\n",
        "  empleados[i] = input(\"Digite el nombre del empleado: \")\n",
        "  salarios[i] = int(input(\"Digite el salario del empleado: \"))\n",
        "  prom_sal_empresa = prom_sal_empresa + salarios[i]\n",
        "\n",
        "prom_sal_empresa = prom_sal_empresa / len(empleados)\n",
        "\n",
        "\n",
        "for i in range(3):\n",
        "  if salarios[i] > prom_sal_empresa:\n",
        "    num_emp_mayor_prom += 1\n",
        "\n",
        "print(\"El numero de empleados que gana mas del promedio salarial es: \" + str(num_emp_mayor_prom))\n"
      ],
      "metadata": {
        "id": "a7kxna_UdZ9w"
      },
      "execution_count": null,
      "outputs": []
    },
    {
      "cell_type": "markdown",
      "source": [
        "# EJERCICIOS ARREGLOS, ARRAYS O VECTORES\n",
        "1. Hacer un programa en python quen lea un vector A de n elementos que averigue e imprima cual es mayor elemento y en que posicion se encuentra.\n",
        "2. La norma de un vector esta representada como la raiz de la suma de sus elementos elevados al cuadrado, hacer un programa en python que calcule la magnitud o norma de un vector.\n",
        "3. Sea U= (x, y) ; V = (a,b). El producto punto entre U y V esta dada por el producto del primer elemento de U con el primer elemento de V mas el producto del segundo elemento de U con el segundo elemento de V, en caso de tener mas elementos se utiliza esta metodologia sucesivamente. Hacer un programa en python que calcule el producto punto de dos vectores.  "
      ],
      "metadata": {
        "id": "9o68rgkvVnOc"
      }
    },
    {
      "cell_type": "code",
      "source": [
        "# DESARROLLO EJERCICIO 1\n",
        "def encontrar_mayor_elemento(vector):\n",
        "    mayor_elemento = vector[0]\n",
        "    posicion = 0\n",
        "    \n",
        "    for i in range(1, len(vector)):\n",
        "        if vector[i] > mayor_elemento:\n",
        "            mayor_elemento = vector[i]\n",
        "            posicion = i\n",
        "    \n",
        "    return mayor_elemento, posicion\n",
        "\n",
        "n = int(input(\"Ingrese la cantidad de elementos del vector: \"))\n",
        "vector = []\n",
        "\n",
        "for i in range(n):\n",
        "    elemento = int(input(f\"Ingrese el elemento {i + 1}: \"))\n",
        "    vector.append(elemento)\n",
        "\n",
        "mayor_elemento, posicion = encontrar_mayor_elemento(vector)\n",
        "\n",
        "print(f\"El mayor elemento es {mayor_elemento} y se encuentra en la posición {posicion}.\")\n",
        "\n"
      ],
      "metadata": {
        "id": "oKTlnpU_d7wk"
      },
      "execution_count": null,
      "outputs": []
    },
    {
      "cell_type": "code",
      "source": [
        "# DESARROLLO PUNTO 2\n",
        "import math\n",
        "vector = [None]*3\n",
        "\n",
        "\n",
        "for i in range(3):\n",
        "  a = int(input(\"Dame un elemento: \"))\n",
        "  vector[i] = a\n",
        "  sum_cuadrado = a*vector[i] + a*vector[i] + a*vector[i]\n",
        "  norma = math.sqrt(sum_cuadrado)\n",
        "\n",
        "\n",
        "print(\"El vector es: \")\n",
        "print(vector)\n",
        "\n",
        "print(\"La norma es: \")\n",
        "print(norma)"
      ],
      "metadata": {
        "id": "Utk1ffgKhEOy"
      },
      "execution_count": null,
      "outputs": []
    }
  ]
}